{
 "cells": [
  {
   "cell_type": "markdown",
   "id": "eaa53e8b",
   "metadata": {},
   "source": [
    "## Importing Libraries and dataset"
   ]
  },
  {
   "cell_type": "code",
   "execution_count": 1,
   "id": "11e894a4",
   "metadata": {},
   "outputs": [],
   "source": [
    "import pandas as pd\n",
    "import numpy as np\n",
    "import tensorflow as tf\n",
    "import matplotlib.pyplot as plt"
   ]
  },
  {
   "cell_type": "code",
   "execution_count": 2,
   "id": "79eb5cda",
   "metadata": {},
   "outputs": [],
   "source": [
    "# Load the MNIST dataset\n",
    "(train_images, train_labels), (test_images, test_labels) = tf.keras.datasets.mnist.load_data()"
   ]
  },
  {
   "cell_type": "markdown",
   "id": "db875c50",
   "metadata": {},
   "source": [
    "## Preprocessing the data"
   ]
  },
  {
   "cell_type": "code",
   "execution_count": 3,
   "id": "abcf5ff6",
   "metadata": {},
   "outputs": [],
   "source": [
    "# Flatten the images from 28x28 to 784\n",
    "train_images_flat = train_images.reshape(train_images.shape[0], -1)\n",
    "test_images_flat = test_images.reshape(test_images.shape[0], -1)"
   ]
  },
  {
   "cell_type": "code",
   "execution_count": 4,
   "id": "b5c2c51e",
   "metadata": {},
   "outputs": [],
   "source": [
    "# Combine the labels and images\n",
    "train_data = np.column_stack((train_labels, train_images_flat))\n",
    "test_data = np.column_stack((test_labels, test_images_flat))"
   ]
  },
  {
   "cell_type": "code",
   "execution_count": 5,
   "id": "5418a490",
   "metadata": {},
   "outputs": [],
   "source": [
    "# Create DataFrames\n",
    "columns = ['label'] + [f'pixel{i}' for i in range(train_images_flat.shape[1])]\n",
    "train_df = pd.DataFrame(train_data, columns=columns)\n",
    "test_df = pd.DataFrame(test_data, columns=columns)"
   ]
  },
  {
   "cell_type": "code",
   "execution_count": 6,
   "id": "734b10f4",
   "metadata": {},
   "outputs": [
    {
     "name": "stdout",
     "output_type": "stream",
     "text": [
      "MNIST data has been successfully saved to CSV files.\n"
     ]
    }
   ],
   "source": [
    "# Save DataFrames to CSV\n",
    "train_df.to_csv('train.csv', index=False)\n",
    "test_df.to_csv('test.csv', index=False)\n",
    "\n",
    "print(\"MNIST data has been successfully saved to CSV files.\")"
   ]
  },
  {
   "cell_type": "code",
   "execution_count": 7,
   "id": "3c6bbef8",
   "metadata": {},
   "outputs": [],
   "source": [
    "df=pd.read_csv(\"train.csv\")"
   ]
  },
  {
   "cell_type": "code",
   "execution_count": 8,
   "id": "238cad23",
   "metadata": {},
   "outputs": [
    {
     "data": {
      "text/html": [
       "<div>\n",
       "<style scoped>\n",
       "    .dataframe tbody tr th:only-of-type {\n",
       "        vertical-align: middle;\n",
       "    }\n",
       "\n",
       "    .dataframe tbody tr th {\n",
       "        vertical-align: top;\n",
       "    }\n",
       "\n",
       "    .dataframe thead th {\n",
       "        text-align: right;\n",
       "    }\n",
       "</style>\n",
       "<table border=\"1\" class=\"dataframe\">\n",
       "  <thead>\n",
       "    <tr style=\"text-align: right;\">\n",
       "      <th></th>\n",
       "      <th>label</th>\n",
       "      <th>pixel0</th>\n",
       "      <th>pixel1</th>\n",
       "      <th>pixel2</th>\n",
       "      <th>pixel3</th>\n",
       "      <th>pixel4</th>\n",
       "      <th>pixel5</th>\n",
       "      <th>pixel6</th>\n",
       "      <th>pixel7</th>\n",
       "      <th>pixel8</th>\n",
       "      <th>...</th>\n",
       "      <th>pixel774</th>\n",
       "      <th>pixel775</th>\n",
       "      <th>pixel776</th>\n",
       "      <th>pixel777</th>\n",
       "      <th>pixel778</th>\n",
       "      <th>pixel779</th>\n",
       "      <th>pixel780</th>\n",
       "      <th>pixel781</th>\n",
       "      <th>pixel782</th>\n",
       "      <th>pixel783</th>\n",
       "    </tr>\n",
       "  </thead>\n",
       "  <tbody>\n",
       "    <tr>\n",
       "      <th>0</th>\n",
       "      <td>5</td>\n",
       "      <td>0</td>\n",
       "      <td>0</td>\n",
       "      <td>0</td>\n",
       "      <td>0</td>\n",
       "      <td>0</td>\n",
       "      <td>0</td>\n",
       "      <td>0</td>\n",
       "      <td>0</td>\n",
       "      <td>0</td>\n",
       "      <td>...</td>\n",
       "      <td>0</td>\n",
       "      <td>0</td>\n",
       "      <td>0</td>\n",
       "      <td>0</td>\n",
       "      <td>0</td>\n",
       "      <td>0</td>\n",
       "      <td>0</td>\n",
       "      <td>0</td>\n",
       "      <td>0</td>\n",
       "      <td>0</td>\n",
       "    </tr>\n",
       "    <tr>\n",
       "      <th>1</th>\n",
       "      <td>0</td>\n",
       "      <td>0</td>\n",
       "      <td>0</td>\n",
       "      <td>0</td>\n",
       "      <td>0</td>\n",
       "      <td>0</td>\n",
       "      <td>0</td>\n",
       "      <td>0</td>\n",
       "      <td>0</td>\n",
       "      <td>0</td>\n",
       "      <td>...</td>\n",
       "      <td>0</td>\n",
       "      <td>0</td>\n",
       "      <td>0</td>\n",
       "      <td>0</td>\n",
       "      <td>0</td>\n",
       "      <td>0</td>\n",
       "      <td>0</td>\n",
       "      <td>0</td>\n",
       "      <td>0</td>\n",
       "      <td>0</td>\n",
       "    </tr>\n",
       "    <tr>\n",
       "      <th>2</th>\n",
       "      <td>4</td>\n",
       "      <td>0</td>\n",
       "      <td>0</td>\n",
       "      <td>0</td>\n",
       "      <td>0</td>\n",
       "      <td>0</td>\n",
       "      <td>0</td>\n",
       "      <td>0</td>\n",
       "      <td>0</td>\n",
       "      <td>0</td>\n",
       "      <td>...</td>\n",
       "      <td>0</td>\n",
       "      <td>0</td>\n",
       "      <td>0</td>\n",
       "      <td>0</td>\n",
       "      <td>0</td>\n",
       "      <td>0</td>\n",
       "      <td>0</td>\n",
       "      <td>0</td>\n",
       "      <td>0</td>\n",
       "      <td>0</td>\n",
       "    </tr>\n",
       "    <tr>\n",
       "      <th>3</th>\n",
       "      <td>1</td>\n",
       "      <td>0</td>\n",
       "      <td>0</td>\n",
       "      <td>0</td>\n",
       "      <td>0</td>\n",
       "      <td>0</td>\n",
       "      <td>0</td>\n",
       "      <td>0</td>\n",
       "      <td>0</td>\n",
       "      <td>0</td>\n",
       "      <td>...</td>\n",
       "      <td>0</td>\n",
       "      <td>0</td>\n",
       "      <td>0</td>\n",
       "      <td>0</td>\n",
       "      <td>0</td>\n",
       "      <td>0</td>\n",
       "      <td>0</td>\n",
       "      <td>0</td>\n",
       "      <td>0</td>\n",
       "      <td>0</td>\n",
       "    </tr>\n",
       "    <tr>\n",
       "      <th>4</th>\n",
       "      <td>9</td>\n",
       "      <td>0</td>\n",
       "      <td>0</td>\n",
       "      <td>0</td>\n",
       "      <td>0</td>\n",
       "      <td>0</td>\n",
       "      <td>0</td>\n",
       "      <td>0</td>\n",
       "      <td>0</td>\n",
       "      <td>0</td>\n",
       "      <td>...</td>\n",
       "      <td>0</td>\n",
       "      <td>0</td>\n",
       "      <td>0</td>\n",
       "      <td>0</td>\n",
       "      <td>0</td>\n",
       "      <td>0</td>\n",
       "      <td>0</td>\n",
       "      <td>0</td>\n",
       "      <td>0</td>\n",
       "      <td>0</td>\n",
       "    </tr>\n",
       "  </tbody>\n",
       "</table>\n",
       "<p>5 rows × 785 columns</p>\n",
       "</div>"
      ],
      "text/plain": [
       "   label  pixel0  pixel1  pixel2  pixel3  pixel4  pixel5  pixel6  pixel7  \\\n",
       "0      5       0       0       0       0       0       0       0       0   \n",
       "1      0       0       0       0       0       0       0       0       0   \n",
       "2      4       0       0       0       0       0       0       0       0   \n",
       "3      1       0       0       0       0       0       0       0       0   \n",
       "4      9       0       0       0       0       0       0       0       0   \n",
       "\n",
       "   pixel8  ...  pixel774  pixel775  pixel776  pixel777  pixel778  pixel779  \\\n",
       "0       0  ...         0         0         0         0         0         0   \n",
       "1       0  ...         0         0         0         0         0         0   \n",
       "2       0  ...         0         0         0         0         0         0   \n",
       "3       0  ...         0         0         0         0         0         0   \n",
       "4       0  ...         0         0         0         0         0         0   \n",
       "\n",
       "   pixel780  pixel781  pixel782  pixel783  \n",
       "0         0         0         0         0  \n",
       "1         0         0         0         0  \n",
       "2         0         0         0         0  \n",
       "3         0         0         0         0  \n",
       "4         0         0         0         0  \n",
       "\n",
       "[5 rows x 785 columns]"
      ]
     },
     "execution_count": 8,
     "metadata": {},
     "output_type": "execute_result"
    }
   ],
   "source": [
    "df.head()"
   ]
  },
  {
   "cell_type": "code",
   "execution_count": 9,
   "id": "037ef48b",
   "metadata": {},
   "outputs": [
    {
     "data": {
      "text/plain": [
       "(60000, 785)"
      ]
     },
     "execution_count": 9,
     "metadata": {},
     "output_type": "execute_result"
    }
   ],
   "source": [
    "df.shape"
   ]
  },
  {
   "cell_type": "code",
   "execution_count": 10,
   "id": "3910a80b",
   "metadata": {},
   "outputs": [],
   "source": [
    "df=np.array(df)\n",
    "m,n=df.shape\n",
    "np.random.shuffle(df)\n",
    "#m=number of images,n=image pixel"
   ]
  },
  {
   "cell_type": "code",
   "execution_count": 11,
   "id": "e5a1af16",
   "metadata": {},
   "outputs": [],
   "source": [
    "df_test=df[0:1000].T\n",
    "Y_test=df_test[0]\n",
    "X_test=df_test[1:]"
   ]
  },
  {
   "cell_type": "code",
   "execution_count": 12,
   "id": "53634494",
   "metadata": {},
   "outputs": [
    {
     "data": {
      "text/plain": [
       "array([[0., 0., 0., ..., 0., 0., 0.],\n",
       "       [0., 0., 0., ..., 0., 0., 0.],\n",
       "       [0., 0., 0., ..., 0., 0., 0.],\n",
       "       ...,\n",
       "       [0., 0., 0., ..., 0., 0., 0.],\n",
       "       [0., 0., 0., ..., 0., 0., 0.],\n",
       "       [0., 0., 0., ..., 0., 0., 0.]])"
      ]
     },
     "execution_count": 12,
     "metadata": {},
     "output_type": "execute_result"
    }
   ],
   "source": [
    "X_test=X_test/255.\n",
    "X_test"
   ]
  },
  {
   "cell_type": "code",
   "execution_count": 13,
   "id": "1b38d0fe",
   "metadata": {},
   "outputs": [],
   "source": [
    "df_train=df[1000:].T\n",
    "Y_train=df_train[0]\n",
    "X_train=df_train[1:n]\n",
    "X_train=X_train/255."
   ]
  },
  {
   "cell_type": "code",
   "execution_count": 14,
   "id": "e276a69b",
   "metadata": {},
   "outputs": [
    {
     "data": {
      "text/plain": [
       "(784, 59000)"
      ]
     },
     "execution_count": 14,
     "metadata": {},
     "output_type": "execute_result"
    }
   ],
   "source": [
    "X_train.shape"
   ]
  },
  {
   "cell_type": "markdown",
   "id": "d7ff35b2",
   "metadata": {},
   "source": [
    "### Initializing parameters"
   ]
  },
  {
   "cell_type": "code",
   "execution_count": 15,
   "id": "80d9ef81",
   "metadata": {},
   "outputs": [],
   "source": [
    "def init_params():\n",
    "    weights1=np.random.rand(10,784)-0.5\n",
    "    bias1=np.random.rand(10,1)-0.5\n",
    "    weights2=np.random.rand(10,10)-0.5\n",
    "    bias2=np.random.rand(10,1)-0.5\n",
    "    return weights1, bias1, weights2, bias2"
   ]
  },
  {
   "cell_type": "markdown",
   "id": "2db3d077",
   "metadata": {},
   "source": [
    "### Forward Propagation"
   ]
  },
  {
   "cell_type": "code",
   "execution_count": 16,
   "id": "cf961412",
   "metadata": {},
   "outputs": [],
   "source": [
    "#activation functions \n",
    "def RelU(hidden):\n",
    "    return np.maximum(0,hidden)\n",
    "\n",
    "def softmax(hidden):\n",
    "    activated= np.exp(hidden)/sum(np.exp(hidden))\n",
    "    return activated\n",
    "\n",
    "#forward propagation    \n",
    "def forward_prop(weights1, bias1, weights2, bias2, X):\n",
    "    hidden1=weights1.dot(X)+bias1\n",
    "    activated1=RelU(hidden1)\n",
    "    hidden2=weights2.dot(activated1)+bias2\n",
    "    activated2=softmax(hidden2)\n",
    "    return hidden1, activated1, hidden2, activated2"
   ]
  },
  {
   "cell_type": "markdown",
   "id": "43d923e0",
   "metadata": {},
   "source": [
    "### One-hot-encoding "
   ]
  },
  {
   "cell_type": "code",
   "execution_count": 17,
   "id": "c5039087",
   "metadata": {},
   "outputs": [],
   "source": [
    "def one_hot_encode(Y):\n",
    "    one_hot_Y=np.zeros((Y.size,Y.max()+1))\n",
    "    one_hot_Y[np.arange(Y.size),Y]=1\n",
    "    one_hot_Y=one_hot_Y.T\n",
    "    return one_hot_Y"
   ]
  },
  {
   "cell_type": "code",
   "execution_count": 18,
   "id": "a278b05f",
   "metadata": {},
   "outputs": [
    {
     "data": {
      "text/plain": [
       "'\\n#what does the function one_hot_encode do?\\nY=np.array([1,2,2,4,5,9])\\none_hot_Y=np.zeros((Y.size,Y.max()+1))\\none_hot_Y[np.arange(Y.size),Y]=1\\none_hot_Y.T'"
      ]
     },
     "execution_count": 18,
     "metadata": {},
     "output_type": "execute_result"
    }
   ],
   "source": [
    "'''\n",
    "#what does the function one_hot_encode do?\n",
    "Y=np.array([1,2,2,4,5,9])\n",
    "one_hot_Y=np.zeros((Y.size,Y.max()+1))\n",
    "one_hot_Y[np.arange(Y.size),Y]=1\n",
    "one_hot_Y.T'''"
   ]
  },
  {
   "cell_type": "code",
   "execution_count": 19,
   "id": "183f1aec",
   "metadata": {},
   "outputs": [],
   "source": [
    "#derivation of activation function used in backpropagation\n",
    "def deriv_ReLU(hidden):\n",
    "    return hidden>0"
   ]
  },
  {
   "cell_type": "markdown",
   "id": "25063e33",
   "metadata": {},
   "source": [
    "### Backpropagation"
   ]
  },
  {
   "cell_type": "code",
   "execution_count": 20,
   "id": "b659a87b",
   "metadata": {},
   "outputs": [],
   "source": [
    "def back_propagation(hidden1, activated1, hidden2, activated2,weights1, weights2, X, Y):\n",
    "    \n",
    "    one_hot_Y=one_hot_encode(Y)\n",
    "    \n",
    "    dhidden2=activated2-one_hot_Y\n",
    "    dweights2=1/m*dhidden2.dot(activated1.T)\n",
    "    dbias2=1/m*np.sum(dhidden2)\n",
    "    \n",
    "    dhidden1=weights2.T.dot(dhidden2)*deriv_ReLU(hidden1)\n",
    "    dweights1=1/m*dhidden1.dot(X.T)\n",
    "    dbias1=1/m*np.sum(dhidden1)\n",
    "    \n",
    "    return dweights1,dbias1,dweights2,dbias2    "
   ]
  },
  {
   "cell_type": "markdown",
   "id": "fc47a5f0",
   "metadata": {},
   "source": [
    "### Updating parameters"
   ]
  },
  {
   "cell_type": "code",
   "execution_count": 21,
   "id": "7817893b",
   "metadata": {},
   "outputs": [],
   "source": [
    "def update_params(weights1, bias1, weights2, bias2, dweights1, dbias1, dweights2, dbias2, alpha):\n",
    "    weights1=weights1-alpha*dweights1\n",
    "    bias1=bias1-alpha*dbias1\n",
    "    \n",
    "    weights2=weights2-alpha*dweights2\n",
    "    bias2=bias2-alpha*dbias2\n",
    "    \n",
    "    return weights1,bias1,weights2,bias2"
   ]
  },
  {
   "cell_type": "markdown",
   "id": "f5a573a7",
   "metadata": {},
   "source": [
    "### Gradient descent and accuracy"
   ]
  },
  {
   "cell_type": "code",
   "execution_count": 22,
   "id": "ea78cc4f",
   "metadata": {},
   "outputs": [],
   "source": [
    "def get_predictions(activated2):\n",
    "    return np.argmax(activated2,0)\n",
    "\n",
    "def get_accuracy(predictions,Y):\n",
    "    print(predictions,Y)\n",
    "    return np.sum(predictions==Y)/Y.size\n",
    "\n",
    "def gradient_descent(X,Y,iterations,alpha):\n",
    "    weights1, bias1, weights2, bias2=init_params()\n",
    "    for i in range(iterations):\n",
    "        hidden1, activated1, hidden2, activated2 = forward_prop(weights1, bias1, weights2, bias2, X)\n",
    "        dweights1, dbias1, dweights2, dbias2 = back_propagation(hidden1, activated1, hidden2, activated2,weights1, weights2, X, Y)\n",
    "        weights1,bias1,weights2,bias2=update_params(weights1, bias1,weights2,bias2, dweights1, dbias1, dweights2, dbias2, alpha)\n",
    "        if (i%10==0):\n",
    "            print(\"iteration : \",i)\n",
    "            predictions=get_predictions(activated2)\n",
    "            print(\"Accuracy: \",get_accuracy(predictions,Y))\n",
    "    return weights1,bias1,weights2,bias2"
   ]
  },
  {
   "cell_type": "markdown",
   "id": "fdec02b0",
   "metadata": {},
   "source": [
    "### Running the code"
   ]
  },
  {
   "cell_type": "code",
   "execution_count": 23,
   "id": "2c49b41f",
   "metadata": {},
   "outputs": [
    {
     "name": "stdout",
     "output_type": "stream",
     "text": [
      "iteration :  0\n",
      "[9 9 8 ... 0 5 9] [4 1 0 ... 9 4 0]\n",
      "Accuracy:  0.07623728813559322\n",
      "iteration :  10\n",
      "[9 9 8 ... 0 5 0] [4 1 0 ... 9 4 0]\n",
      "Accuracy:  0.19983050847457628\n",
      "iteration :  20\n",
      "[7 1 8 ... 0 4 0] [4 1 0 ... 9 4 0]\n",
      "Accuracy:  0.2892033898305085\n",
      "iteration :  30\n",
      "[7 1 8 ... 3 4 0] [4 1 0 ... 9 4 0]\n",
      "Accuracy:  0.35177966101694913\n",
      "iteration :  40\n",
      "[9 1 0 ... 8 4 0] [4 1 0 ... 9 4 0]\n",
      "Accuracy:  0.3999491525423729\n",
      "iteration :  50\n",
      "[9 1 0 ... 8 4 0] [4 1 0 ... 9 4 0]\n",
      "Accuracy:  0.44413559322033896\n",
      "iteration :  60\n",
      "[9 1 0 ... 8 4 0] [4 1 0 ... 9 4 0]\n",
      "Accuracy:  0.4822542372881356\n",
      "iteration :  70\n",
      "[9 1 0 ... 8 4 0] [4 1 0 ... 9 4 0]\n",
      "Accuracy:  0.5141525423728813\n",
      "iteration :  80\n",
      "[9 1 0 ... 8 4 0] [4 1 0 ... 9 4 0]\n",
      "Accuracy:  0.5451864406779661\n",
      "iteration :  90\n",
      "[9 1 0 ... 4 4 0] [4 1 0 ... 9 4 0]\n",
      "Accuracy:  0.5725254237288135\n",
      "iteration :  100\n",
      "[9 1 0 ... 4 4 0] [4 1 0 ... 9 4 0]\n",
      "Accuracy:  0.5980338983050848\n",
      "iteration :  110\n",
      "[9 1 0 ... 4 4 0] [4 1 0 ... 9 4 0]\n",
      "Accuracy:  0.6176101694915255\n",
      "iteration :  120\n",
      "[9 1 0 ... 4 4 0] [4 1 0 ... 9 4 0]\n",
      "Accuracy:  0.635864406779661\n",
      "iteration :  130\n",
      "[9 1 0 ... 4 4 0] [4 1 0 ... 9 4 0]\n",
      "Accuracy:  0.6513050847457628\n",
      "iteration :  140\n",
      "[9 1 0 ... 9 4 0] [4 1 0 ... 9 4 0]\n",
      "Accuracy:  0.6660169491525424\n",
      "iteration :  150\n",
      "[9 1 0 ... 9 4 0] [4 1 0 ... 9 4 0]\n",
      "Accuracy:  0.6787457627118644\n",
      "iteration :  160\n",
      "[9 1 0 ... 9 4 0] [4 1 0 ... 9 4 0]\n",
      "Accuracy:  0.6898305084745763\n",
      "iteration :  170\n",
      "[9 1 0 ... 9 4 0] [4 1 0 ... 9 4 0]\n",
      "Accuracy:  0.7005254237288135\n",
      "iteration :  180\n",
      "[9 1 0 ... 9 4 0] [4 1 0 ... 9 4 0]\n",
      "Accuracy:  0.7100338983050848\n",
      "iteration :  190\n",
      "[9 1 0 ... 9 4 0] [4 1 0 ... 9 4 0]\n",
      "Accuracy:  0.718864406779661\n",
      "iteration :  200\n",
      "[9 1 0 ... 9 4 0] [4 1 0 ... 9 4 0]\n",
      "Accuracy:  0.7276949152542372\n",
      "iteration :  210\n",
      "[9 1 0 ... 9 4 0] [4 1 0 ... 9 4 0]\n",
      "Accuracy:  0.7348813559322034\n",
      "iteration :  220\n",
      "[9 1 0 ... 9 4 0] [4 1 0 ... 9 4 0]\n",
      "Accuracy:  0.743\n",
      "iteration :  230\n",
      "[9 1 0 ... 9 4 0] [4 1 0 ... 9 4 0]\n",
      "Accuracy:  0.7499322033898305\n",
      "iteration :  240\n",
      "[9 1 0 ... 9 4 0] [4 1 0 ... 9 4 0]\n",
      "Accuracy:  0.756135593220339\n",
      "iteration :  250\n",
      "[9 1 0 ... 9 4 0] [4 1 0 ... 9 4 0]\n",
      "Accuracy:  0.7621016949152543\n",
      "iteration :  260\n",
      "[9 1 0 ... 9 4 0] [4 1 0 ... 9 4 0]\n",
      "Accuracy:  0.7676779661016949\n",
      "iteration :  270\n",
      "[9 1 0 ... 9 4 0] [4 1 0 ... 9 4 0]\n",
      "Accuracy:  0.772542372881356\n",
      "iteration :  280\n",
      "[9 1 0 ... 9 4 0] [4 1 0 ... 9 4 0]\n",
      "Accuracy:  0.7766271186440677\n",
      "iteration :  290\n",
      "[4 1 0 ... 9 4 0] [4 1 0 ... 9 4 0]\n",
      "Accuracy:  0.7808305084745762\n",
      "iteration :  300\n",
      "[4 1 0 ... 9 4 0] [4 1 0 ... 9 4 0]\n",
      "Accuracy:  0.7848813559322034\n",
      "iteration :  310\n",
      "[4 1 0 ... 9 4 0] [4 1 0 ... 9 4 0]\n",
      "Accuracy:  0.7890677966101695\n",
      "iteration :  320\n",
      "[4 1 0 ... 9 4 0] [4 1 0 ... 9 4 0]\n",
      "Accuracy:  0.7926779661016949\n",
      "iteration :  330\n",
      "[4 1 0 ... 9 4 0] [4 1 0 ... 9 4 0]\n",
      "Accuracy:  0.7963559322033898\n",
      "iteration :  340\n",
      "[4 1 0 ... 9 4 0] [4 1 0 ... 9 4 0]\n",
      "Accuracy:  0.7997627118644067\n",
      "iteration :  350\n",
      "[4 1 0 ... 9 4 0] [4 1 0 ... 9 4 0]\n",
      "Accuracy:  0.8030169491525424\n",
      "iteration :  360\n",
      "[4 1 0 ... 9 4 0] [4 1 0 ... 9 4 0]\n",
      "Accuracy:  0.8061864406779661\n",
      "iteration :  370\n",
      "[4 1 0 ... 9 4 0] [4 1 0 ... 9 4 0]\n",
      "Accuracy:  0.8098135593220339\n",
      "iteration :  380\n",
      "[4 1 0 ... 9 4 0] [4 1 0 ... 9 4 0]\n",
      "Accuracy:  0.8128305084745763\n",
      "iteration :  390\n",
      "[4 1 0 ... 9 4 0] [4 1 0 ... 9 4 0]\n",
      "Accuracy:  0.8153898305084746\n",
      "iteration :  400\n",
      "[4 1 0 ... 9 4 0] [4 1 0 ... 9 4 0]\n",
      "Accuracy:  0.818271186440678\n",
      "iteration :  410\n",
      "[4 1 0 ... 9 4 0] [4 1 0 ... 9 4 0]\n",
      "Accuracy:  0.8203728813559322\n",
      "iteration :  420\n",
      "[4 1 0 ... 9 4 0] [4 1 0 ... 9 4 0]\n",
      "Accuracy:  0.8224237288135593\n",
      "iteration :  430\n",
      "[4 1 0 ... 9 4 0] [4 1 0 ... 9 4 0]\n",
      "Accuracy:  0.8243559322033899\n",
      "iteration :  440\n",
      "[4 1 0 ... 9 4 0] [4 1 0 ... 9 4 0]\n",
      "Accuracy:  0.8261016949152542\n",
      "iteration :  450\n",
      "[4 1 0 ... 9 4 0] [4 1 0 ... 9 4 0]\n",
      "Accuracy:  0.8281186440677966\n",
      "iteration :  460\n",
      "[4 1 0 ... 9 4 0] [4 1 0 ... 9 4 0]\n",
      "Accuracy:  0.8299152542372882\n",
      "iteration :  470\n",
      "[4 1 0 ... 9 4 0] [4 1 0 ... 9 4 0]\n",
      "Accuracy:  0.8317966101694916\n",
      "iteration :  480\n",
      "[4 1 0 ... 9 4 0] [4 1 0 ... 9 4 0]\n",
      "Accuracy:  0.8331864406779661\n",
      "iteration :  490\n",
      "[4 1 0 ... 9 4 0] [4 1 0 ... 9 4 0]\n",
      "Accuracy:  0.8345762711864407\n",
      "iteration :  500\n",
      "[4 1 0 ... 9 4 0] [4 1 0 ... 9 4 0]\n",
      "Accuracy:  0.8361864406779661\n",
      "iteration :  510\n",
      "[4 1 0 ... 9 4 0] [4 1 0 ... 9 4 0]\n",
      "Accuracy:  0.8379491525423729\n",
      "iteration :  520\n",
      "[4 1 0 ... 9 4 0] [4 1 0 ... 9 4 0]\n",
      "Accuracy:  0.8395762711864406\n",
      "iteration :  530\n",
      "[4 1 0 ... 9 4 0] [4 1 0 ... 9 4 0]\n",
      "Accuracy:  0.8409830508474576\n",
      "iteration :  540\n",
      "[4 1 0 ... 9 4 0] [4 1 0 ... 9 4 0]\n",
      "Accuracy:  0.842\n",
      "iteration :  550\n",
      "[4 1 0 ... 9 4 0] [4 1 0 ... 9 4 0]\n",
      "Accuracy:  0.8434237288135593\n",
      "iteration :  560\n",
      "[4 1 0 ... 9 4 0] [4 1 0 ... 9 4 0]\n",
      "Accuracy:  0.8447457627118644\n",
      "iteration :  570\n",
      "[4 1 0 ... 9 4 0] [4 1 0 ... 9 4 0]\n",
      "Accuracy:  0.8458305084745763\n",
      "iteration :  580\n",
      "[4 1 0 ... 9 4 0] [4 1 0 ... 9 4 0]\n",
      "Accuracy:  0.8471525423728814\n",
      "iteration :  590\n",
      "[4 1 0 ... 9 4 0] [4 1 0 ... 9 4 0]\n",
      "Accuracy:  0.8483559322033898\n",
      "iteration :  600\n",
      "[4 1 0 ... 9 4 0] [4 1 0 ... 9 4 0]\n",
      "Accuracy:  0.8492542372881355\n",
      "iteration :  610\n",
      "[4 1 0 ... 9 4 0] [4 1 0 ... 9 4 0]\n",
      "Accuracy:  0.8501864406779661\n",
      "iteration :  620\n",
      "[4 1 0 ... 9 4 0] [4 1 0 ... 9 4 0]\n",
      "Accuracy:  0.851\n",
      "iteration :  630\n",
      "[4 1 0 ... 9 4 0] [4 1 0 ... 9 4 0]\n",
      "Accuracy:  0.8521186440677966\n",
      "iteration :  640\n",
      "[4 1 0 ... 9 4 0] [4 1 0 ... 9 4 0]\n",
      "Accuracy:  0.8530169491525423\n",
      "iteration :  650\n",
      "[4 1 0 ... 9 4 0] [4 1 0 ... 9 4 0]\n",
      "Accuracy:  0.854271186440678\n",
      "iteration :  660\n",
      "[4 1 0 ... 9 4 0] [4 1 0 ... 9 4 0]\n",
      "Accuracy:  0.8549830508474576\n",
      "iteration :  670\n",
      "[4 1 0 ... 9 4 0] [4 1 0 ... 9 4 0]\n",
      "Accuracy:  0.856\n",
      "iteration :  680\n",
      "[4 1 0 ... 9 4 0] [4 1 0 ... 9 4 0]\n",
      "Accuracy:  0.8567457627118644\n",
      "iteration :  690\n",
      "[4 1 0 ... 9 4 0] [4 1 0 ... 9 4 0]\n",
      "Accuracy:  0.8576610169491525\n",
      "iteration :  700\n",
      "[4 1 0 ... 9 4 0] [4 1 0 ... 9 4 0]\n",
      "Accuracy:  0.858593220338983\n",
      "iteration :  710\n",
      "[4 1 0 ... 9 4 0] [4 1 0 ... 9 4 0]\n",
      "Accuracy:  0.8592372881355932\n",
      "iteration :  720\n",
      "[4 1 0 ... 9 4 0] [4 1 0 ... 9 4 0]\n",
      "Accuracy:  0.8601186440677966\n",
      "iteration :  730\n",
      "[4 1 0 ... 9 4 0] [4 1 0 ... 9 4 0]\n",
      "Accuracy:  0.8609661016949153\n",
      "iteration :  740\n",
      "[4 1 0 ... 9 4 0] [4 1 0 ... 9 4 0]\n",
      "Accuracy:  0.8616271186440678\n",
      "iteration :  750\n",
      "[4 1 0 ... 9 4 0] [4 1 0 ... 9 4 0]\n",
      "Accuracy:  0.8623389830508474\n",
      "iteration :  760\n",
      "[4 1 0 ... 9 4 0] [4 1 0 ... 9 4 0]\n",
      "Accuracy:  0.8628474576271187\n",
      "iteration :  770\n",
      "[4 1 0 ... 9 4 0] [4 1 0 ... 9 4 0]\n",
      "Accuracy:  0.8635593220338983\n",
      "iteration :  780\n",
      "[4 1 0 ... 9 4 0] [4 1 0 ... 9 4 0]\n",
      "Accuracy:  0.8641694915254238\n",
      "iteration :  790\n",
      "[4 1 0 ... 9 4 0] [4 1 0 ... 9 4 0]\n",
      "Accuracy:  0.8647966101694915\n",
      "iteration :  800\n",
      "[4 1 0 ... 9 4 0] [4 1 0 ... 9 4 0]\n",
      "Accuracy:  0.8653898305084746\n",
      "iteration :  810\n",
      "[4 1 0 ... 9 4 0] [4 1 0 ... 9 4 0]\n",
      "Accuracy:  0.8657288135593221\n",
      "iteration :  820\n",
      "[4 1 0 ... 9 4 0] [4 1 0 ... 9 4 0]\n",
      "Accuracy:  0.8663559322033898\n",
      "iteration :  830\n",
      "[4 1 0 ... 9 4 0] [4 1 0 ... 9 4 0]\n",
      "Accuracy:  0.8670508474576272\n",
      "iteration :  840\n",
      "[4 1 0 ... 9 4 0] [4 1 0 ... 9 4 0]\n",
      "Accuracy:  0.8677966101694915\n",
      "iteration :  850\n",
      "[4 1 0 ... 9 4 0] [4 1 0 ... 9 4 0]\n",
      "Accuracy:  0.8683220338983051\n",
      "iteration :  860\n",
      "[4 1 0 ... 9 4 0] [4 1 0 ... 9 4 0]\n",
      "Accuracy:  0.8689152542372881\n",
      "iteration :  870\n",
      "[4 1 0 ... 9 4 0] [4 1 0 ... 9 4 0]\n",
      "Accuracy:  0.8694237288135593\n",
      "iteration :  880\n",
      "[4 1 0 ... 9 4 0] [4 1 0 ... 9 4 0]\n",
      "Accuracy:  0.8698813559322034\n",
      "iteration :  890\n",
      "[4 1 0 ... 9 4 0] [4 1 0 ... 9 4 0]\n",
      "Accuracy:  0.8704237288135593\n"
     ]
    }
   ],
   "source": [
    "weights1,bias1,weights2,bias2=gradient_descent(X_train,Y_train,900,0.1)"
   ]
  },
  {
   "cell_type": "code",
   "execution_count": 24,
   "id": "a44d2306",
   "metadata": {},
   "outputs": [],
   "source": [
    "def make_predictions(X, weights1, bias1, weights2, bias2):\n",
    "    _, _, _, activated2 = forward_prop(weights1, bias1, weights2, bias2, X)\n",
    "    predictions = get_predictions(activated2)\n",
    "    return predictions\n",
    "\n",
    "def test_prediction(index, weights1, bias1, weights2, bias2):\n",
    "    current_image = X_train[:, index, None]\n",
    "    prediction = make_predictions(X_train[:, index, None], weights1, bias1, weights2, bias2)\n",
    "    label = Y_train[index]\n",
    "    print(\"Prediction: \", prediction)\n",
    "    print(\"Label: \", label)\n",
    "    \n",
    "    current_image = current_image.reshape((28, 28)) * 255\n",
    "    plt.gray()\n",
    "    plt.imshow(current_image, interpolation='nearest')\n",
    "    plt.show()"
   ]
  },
  {
   "cell_type": "code",
   "execution_count": 25,
   "id": "84bafdec",
   "metadata": {},
   "outputs": [
    {
     "name": "stdout",
     "output_type": "stream",
     "text": [
      "Prediction:  [7]\n",
      "Label:  7\n"
     ]
    },
    {
     "data": {
      "image/png": "[encoded data removed]",
      "text/plain": [
       "<Figure size 640x480 with 1 Axes>"
      ]
     },
     "metadata": {},
     "output_type": "display_data"
    }
   ],
   "source": [
    "test_prediction(7, weights1, bias1, weights2, bias2)"
   ]
  },
  {
   "cell_type": "code",
   "execution_count": 26,
   "id": "a1f27775",
   "metadata": {},
   "outputs": [
    {
     "name": "stdout",
     "output_type": "stream",
     "text": [
      "Prediction:  [9]\n",
      "Label:  9\n"
     ]
    },
    {
     "data": {
      "image/png": "[encoded data removed]",
      "text/plain": [
       "<Figure size 640x480 with 1 Axes>"
      ]
     },
     "metadata": {},
     "output_type": "display_data"
    }
   ],
   "source": [
    "test_prediction(17, weights1, bias1, weights2, bias2)"
   ]
  },
  {
   "cell_type": "code",
   "execution_count": 27,
   "id": "cbba6b2d",
   "metadata": {},
   "outputs": [
    {
     "name": "stdout",
     "output_type": "stream",
     "text": [
      "Prediction:  [1]\n",
      "Label:  1\n"
     ]
    },
    {
     "data": {
      "image/png": "[encoded data removed]",
      "text/plain": [
       "<Figure size 640x480 with 1 Axes>"
      ]
     },
     "metadata": {},
     "output_type": "display_data"
    }
   ],
   "source": [
    "test_prediction(82, weights1, bias1, weights2, bias2)"
   ]
  },
  {
   "cell_type": "code",
   "execution_count": null,
   "id": "4d871ef5",
   "metadata": {},
   "outputs": [],
   "source": []
  }
 ],
 "metadata": {
  "kernelspec": {
   "display_name": "Python 3 (ipykernel)",
   "language": "python",
   "name": "python3"
  },
  "language_info": {
   "codemirror_mode": {
    "name": "ipython",
    "version": 3
   },
   "file_extension": ".py",
   "mimetype": "text/x-python",
   "name": "python",
   "nbconvert_exporter": "python",
   "pygments_lexer": "ipython3",
   "version": "3.10.9"
  }
 },
 "nbformat": 4,
 "nbformat_minor": 5
}
